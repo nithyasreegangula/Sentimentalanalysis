{
 "cells": [
  {
   "cell_type": "code",
   "execution_count": 5,
   "id": "142eac20",
   "metadata": {},
   "outputs": [],
   "source": [
    "import numpy as np\n",
    "import pandas as pd\n",
    "import seaborn as sns\n",
    "from sklearn.neighbors import KNeighborsClassifier\n",
    "from sklearn.metrics import accuracy_score, classification_report\n",
    "from sklearn.metrics import classification_report, confusion_matrix, ConfusionMatrixDisplay\n",
    "from nltk.tokenize import word_tokenize\n",
    "import re\n",
    "from nltk.corpus import stopwords\n",
    "from sklearn.utils import resample\n",
    "from sklearn.svm import  LinearSVC\n",
    "from sklearn.metrics import accuracy_score, classification_report\n",
    "from sklearn.model_selection import train_test_split\n",
    "from nltk.tokenize import word_tokenize\n",
    "from nltk.stem import SnowballStemmer\n",
    "from sklearn.feature_extraction.text import TfidfVectorizer as tf\n",
    "from wordcloud import WordCloud\n",
    "import matplotlib.pyplot as plt\n",
    "from sklearn.metrics import auc, roc_curve\n",
    "from string import punctuation\n",
    "from sklearn.decomposition import PCA, TruncatedSVD\n",
    "from sklearn.calibration import CalibratedClassifierCV\n",
    "\n",
    "\n"
   ]
  },
  {
   "cell_type": "markdown",
   "id": "910fcf86",
   "metadata": {},
   "source": [
    " # 1.Data Exploration"
   ]
  },
  {
   "cell_type": "code",
   "execution_count": 6,
   "id": "7a3f2447",
   "metadata": {},
   "outputs": [],
   "source": [
    "df = pd.read_csv('training.1600000.processed.noemoticon.csv', \n",
    "                 delimiter=',', encoding='ISO-8859-1')\n",
    "df.columns = ['sentiment','id','date','query','user','text']"
   ]
  },
  {
   "cell_type": "markdown",
   "id": "af615f36",
   "metadata": {},
   "source": [
    "# 2.Data Preprocessing"
   ]
  },
  {
   "cell_type": "code",
   "execution_count": 7,
   "id": "c694adfa",
   "metadata": {},
   "outputs": [],
   "source": [
    "stuff_to_be_removed = list(punctuation)\n",
    "\n",
    "\n",
    "\n",
    "\n",
    "\n",
    "def textprocessing(text):\n",
    "    text = str(text)\n",
    "    text = text.lower()                                                          # converting all uppercase letters to lowercase\n",
    "    text = re.sub(r\"https\\S+|www\\S+|https\\S+\",\" \",text,flags=re.MULTILINE)       # removing all links from dataset\n",
    "    text=re.sub(\"(\\\\d|\\\\W)+\",\" \",text)       \n",
    "    text = re.sub(r'\\@\\w+|\\#',\" \",text)                                          # removing # and @ symbols from dataset\n",
    "    text = re.sub(r'[^\\w\\s\\`]',\" \",text)                                         # removing other symbols like ^ except '\n",
    "    text_tokens = word_tokenize(text) \n",
    "    lem = SnowballStemmer(\"english\")\n",
    "    text = [lem.stem(word) for word in text_tokens if not word in stuff_to_be_removed] \n",
    "    text1 = \" \".join(text)\n",
    "    \n",
    "    return text1 "
   ]
  },
  {
   "cell_type": "code",
   "execution_count": 8,
   "id": "c9908298",
   "metadata": {},
   "outputs": [
    {
     "name": "stderr",
     "output_type": "stream",
     "text": [
      "[nltk_data] Downloading package punkt to\n",
      "[nltk_data]     C:\\Users\\gangu\\AppData\\Roaming\\nltk_data...\n",
      "[nltk_data]   Package punkt is already up-to-date!\n"
     ]
    },
    {
     "data": {
      "text/plain": [
       "True"
      ]
     },
     "execution_count": 8,
     "metadata": {},
     "output_type": "execute_result"
    }
   ],
   "source": [
    "import nltk\n",
    "nltk.download('punkt')"
   ]
  },
  {
   "cell_type": "markdown",
   "id": "54a705b5",
   "metadata": {},
   "source": [
    "data_cleaned = pd.DataFrame()\n",
    "df['text'] = df['text'].apply(textprocessing)\n",
    "df['text'].head()"
   ]
  },
  {
   "cell_type": "code",
   "execution_count": 9,
   "id": "0a728fdf",
   "metadata": {},
   "outputs": [
    {
     "data": {
      "text/html": [
       "<div>\n",
       "<style scoped>\n",
       "    .dataframe tbody tr th:only-of-type {\n",
       "        vertical-align: middle;\n",
       "    }\n",
       "\n",
       "    .dataframe tbody tr th {\n",
       "        vertical-align: top;\n",
       "    }\n",
       "\n",
       "    .dataframe thead th {\n",
       "        text-align: right;\n",
       "    }\n",
       "</style>\n",
       "<table border=\"1\" class=\"dataframe\">\n",
       "  <thead>\n",
       "    <tr style=\"text-align: right;\">\n",
       "      <th></th>\n",
       "      <th>sentiment</th>\n",
       "      <th>text</th>\n",
       "    </tr>\n",
       "  </thead>\n",
       "  <tbody>\n",
       "    <tr>\n",
       "      <th>0</th>\n",
       "      <td>0</td>\n",
       "      <td>is upset that he can't update his Facebook by ...</td>\n",
       "    </tr>\n",
       "    <tr>\n",
       "      <th>1</th>\n",
       "      <td>0</td>\n",
       "      <td>@Kenichan I dived many times for the ball. Man...</td>\n",
       "    </tr>\n",
       "    <tr>\n",
       "      <th>2</th>\n",
       "      <td>0</td>\n",
       "      <td>my whole body feels itchy and like its on fire</td>\n",
       "    </tr>\n",
       "    <tr>\n",
       "      <th>3</th>\n",
       "      <td>0</td>\n",
       "      <td>@nationwideclass no, it's not behaving at all....</td>\n",
       "    </tr>\n",
       "    <tr>\n",
       "      <th>4</th>\n",
       "      <td>0</td>\n",
       "      <td>@Kwesidei not the whole crew</td>\n",
       "    </tr>\n",
       "  </tbody>\n",
       "</table>\n",
       "</div>"
      ],
      "text/plain": [
       "   sentiment                                               text\n",
       "0          0  is upset that he can't update his Facebook by ...\n",
       "1          0  @Kenichan I dived many times for the ball. Man...\n",
       "2          0    my whole body feels itchy and like its on fire \n",
       "3          0  @nationwideclass no, it's not behaving at all....\n",
       "4          0                      @Kwesidei not the whole crew "
      ]
     },
     "execution_count": 9,
     "metadata": {},
     "output_type": "execute_result"
    }
   ],
   "source": [
    "negative_text = ' '.join(df[df['sentiment'] == 0]['text'])\n",
    "positive_text = ' '.join(df[df['sentiment'] == 1]['text'])\n",
    "df = df[['sentiment','text']]\n",
    "df.head()"
   ]
  },
  {
   "cell_type": "markdown",
   "id": "79d18e55",
   "metadata": {},
   "source": [
    "# 3.Exploratory data analysis(EDA)\n",
    "\n"
   ]
  },
  {
   "cell_type": "code",
   "execution_count": 10,
   "id": "3d2c2248",
   "metadata": {
    "scrolled": true
   },
   "outputs": [
    {
     "name": "stdout",
     "output_type": "stream",
     "text": [
      "<class 'pandas.core.frame.DataFrame'>\n",
      "RangeIndex: 1048572 entries, 0 to 1048571\n",
      "Data columns (total 2 columns):\n",
      " #   Column     Non-Null Count    Dtype \n",
      "---  ------     --------------    ----- \n",
      " 0   sentiment  1048572 non-null  int64 \n",
      " 1   text       1048572 non-null  object\n",
      "dtypes: int64(1), object(1)\n",
      "memory usage: 16.0+ MB\n"
     ]
    }
   ],
   "source": [
    "\n",
    "df.info()"
   ]
  },
  {
   "cell_type": "code",
   "execution_count": 11,
   "id": "0b5e2b9d",
   "metadata": {},
   "outputs": [
    {
     "data": {
      "text/html": [
       "<div>\n",
       "<style scoped>\n",
       "    .dataframe tbody tr th:only-of-type {\n",
       "        vertical-align: middle;\n",
       "    }\n",
       "\n",
       "    .dataframe tbody tr th {\n",
       "        vertical-align: top;\n",
       "    }\n",
       "\n",
       "    .dataframe thead th {\n",
       "        text-align: right;\n",
       "    }\n",
       "</style>\n",
       "<table border=\"1\" class=\"dataframe\">\n",
       "  <thead>\n",
       "    <tr style=\"text-align: right;\">\n",
       "      <th></th>\n",
       "      <th>sentiment</th>\n",
       "    </tr>\n",
       "  </thead>\n",
       "  <tbody>\n",
       "    <tr>\n",
       "      <th>count</th>\n",
       "      <td>1.048572e+06</td>\n",
       "    </tr>\n",
       "    <tr>\n",
       "      <th>mean</th>\n",
       "      <td>9.482458e-01</td>\n",
       "    </tr>\n",
       "    <tr>\n",
       "      <th>std</th>\n",
       "      <td>1.701122e+00</td>\n",
       "    </tr>\n",
       "    <tr>\n",
       "      <th>min</th>\n",
       "      <td>0.000000e+00</td>\n",
       "    </tr>\n",
       "    <tr>\n",
       "      <th>25%</th>\n",
       "      <td>0.000000e+00</td>\n",
       "    </tr>\n",
       "    <tr>\n",
       "      <th>50%</th>\n",
       "      <td>0.000000e+00</td>\n",
       "    </tr>\n",
       "    <tr>\n",
       "      <th>75%</th>\n",
       "      <td>0.000000e+00</td>\n",
       "    </tr>\n",
       "    <tr>\n",
       "      <th>max</th>\n",
       "      <td>4.000000e+00</td>\n",
       "    </tr>\n",
       "  </tbody>\n",
       "</table>\n",
       "</div>"
      ],
      "text/plain": [
       "          sentiment\n",
       "count  1.048572e+06\n",
       "mean   9.482458e-01\n",
       "std    1.701122e+00\n",
       "min    0.000000e+00\n",
       "25%    0.000000e+00\n",
       "50%    0.000000e+00\n",
       "75%    0.000000e+00\n",
       "max    4.000000e+00"
      ]
     },
     "execution_count": 11,
     "metadata": {},
     "output_type": "execute_result"
    }
   ],
   "source": [
    "df.describe()"
   ]
  },
  {
   "cell_type": "code",
   "execution_count": 12,
   "id": "d00e0fee",
   "metadata": {},
   "outputs": [
    {
     "data": {
      "text/plain": [
       "sentiment    0\n",
       "text         0\n",
       "dtype: int64"
      ]
     },
     "execution_count": 12,
     "metadata": {},
     "output_type": "execute_result"
    }
   ],
   "source": [
    "df.isnull().sum()"
   ]
  },
  {
   "cell_type": "code",
   "execution_count": 13,
   "id": "941adf21",
   "metadata": {},
   "outputs": [],
   "source": [
    "df['sentiment'] = df['sentiment'].replace({4:1})"
   ]
  },
  {
   "cell_type": "code",
   "execution_count": 14,
   "id": "695d36e8",
   "metadata": {},
   "outputs": [
    {
     "data": {
      "image/png": "[encoded data removed]",
      "text/plain": [
       "<Figure size 640x480 with 1 Axes>"
      ]
     },
     "metadata": {},
     "output_type": "display_data"
    }
   ],
   "source": [
    "sns.set(style=\"whitegrid\") \n",
    "\n",
    "sns.countplot(data=df, x='sentiment', hue='sentiment', palette='Set2')\n",
    "\n",
    "# Customize plot labels and title if needed\n",
    "plt.xlabel('Sentiment')\n",
    "plt.ylabel('Count')\n",
    "plt.title('balance  of Sentiment classes')\n",
    "\n",
    "# Show the plot\n",
    "plt.show()"
   ]
  },
  {
   "cell_type": "code",
   "execution_count": 15,
   "id": "dc7352c0",
   "metadata": {},
   "outputs": [
    {
     "data": {
      "text/plain": [
       "0"
      ]
     },
     "execution_count": 15,
     "metadata": {},
     "output_type": "execute_result"
    }
   ],
   "source": [
    "df['text'].isnull().sum()"
   ]
  },
  {
   "cell_type": "code",
   "execution_count": 16,
   "id": "408d9d02",
   "metadata": {},
   "outputs": [],
   "source": [
    "df = df.drop_duplicates('text')"
   ]
  },
  {
   "cell_type": "markdown",
   "id": "4be62cd2",
   "metadata": {},
   "source": [
    "# 4 Text Vectorization:"
   ]
  },
  {
   "cell_type": "code",
   "execution_count": 17,
   "id": "2da90991",
   "metadata": {},
   "outputs": [],
   "source": [
    "x = df['text']\n",
    "y = df['sentiment']\n",
    "\n",
    "vectorizer = tf()\n",
    "vectors = vectorizer.fit_transform(x)"
   ]
  },
  {
   "cell_type": "code",
   "execution_count": 18,
   "id": "e03212e6",
   "metadata": {},
   "outputs": [],
   "source": [
    "X_train_svm, X_temp_svm, y_train_svm, y_temp_svm = train_test_split(vectors, y, test_size=0.3, random_state=52)\n",
    "\n",
    "X_validation_svm, X_test_svm, y_validation_svm, y_test_svm = train_test_split(X_temp_svm, y_temp_svm, test_size=0.5, random_state=52)"
   ]
  },
  {
   "cell_type": "markdown",
   "id": "1a6f02c9",
   "metadata": {},
   "source": [
    "# 5.Model Selection"
   ]
  },
  {
   "cell_type": "raw",
   "id": "18446c58",
   "metadata": {},
   "source": [
    "#SVM"
   ]
  },
  {
   "cell_type": "code",
   "execution_count": 19,
   "id": "5480739c",
   "metadata": {},
   "outputs": [],
   "source": [
    "n_components = 100  \n",
    "svd = TruncatedSVD(n_components=n_components)\n",
    "X_train_svm_pca = svd.fit_transform(X_train_svm)\n",
    "X_validation_svm_pca = svd.transform(X_validation_svm)\n",
    "X_test_svm_pca = svd.transform(X_test_svm)"
   ]
  },
  {
   "cell_type": "code",
   "execution_count": 20,
   "id": "86fcd559",
   "metadata": {},
   "outputs": [
    {
     "name": "stdout",
     "output_type": "stream",
     "text": [
      "Accuracy on the validation set: 0.78717668253764\n",
      "Accuracy on the test set: 0.7881160725775318\n"
     ]
    }
   ],
   "source": [
    "svm_model = LinearSVC(dual = True)\n",
    "svm_model.fit(X_train_svm_pca, y_train_svm)\n",
    "\n",
    "\n",
    "y_pred_validation_svm = svm_model.predict(X_validation_svm_pca)\n",
    "accuracy_validation_svm = accuracy_score(y_validation_svm, y_pred_validation_svm)\n",
    "print(f\"Accuracy on the validation set: {accuracy_validation_svm}\")\n",
    "\n",
    "\n",
    "y_pred_test_svm = svm_model.predict(X_test_svm_pca)\n",
    "accuracy_test_svm = accuracy_score(y_test_svm, y_pred_test_svm)\n",
    "print(f\"Accuracy on the test set: {accuracy_test_svm}\")"
   ]
  },
  {
   "cell_type": "code",
   "execution_count": 21,
   "id": "87da7dda",
   "metadata": {},
   "outputs": [
    {
     "data": {
      "text/html": [
       "<style>#sk-container-id-1 {color: black;background-color: white;}#sk-container-id-1 pre{padding: 0;}#sk-container-id-1 div.sk-toggleable {background-color: white;}#sk-container-id-1 label.sk-toggleable__label {cursor: pointer;display: block;width: 100%;margin-bottom: 0;padding: 0.3em;box-sizing: border-box;text-align: center;}#sk-container-id-1 label.sk-toggleable__label-arrow:before {content: \"▸\";float: left;margin-right: 0.25em;color: #696969;}#sk-container-id-1 label.sk-toggleable__label-arrow:hover:before {color: black;}#sk-container-id-1 div.sk-estimator:hover label.sk-toggleable__label-arrow:before {color: black;}#sk-container-id-1 div.sk-toggleable__content {max-height: 0;max-width: 0;overflow: hidden;text-align: left;background-color: #f0f8ff;}#sk-container-id-1 div.sk-toggleable__content pre {margin: 0.2em;color: black;border-radius: 0.25em;background-color: #f0f8ff;}#sk-container-id-1 input.sk-toggleable__control:checked~div.sk-toggleable__content {max-height: 200px;max-width: 100%;overflow: auto;}#sk-container-id-1 input.sk-toggleable__control:checked~label.sk-toggleable__label-arrow:before {content: \"▾\";}#sk-container-id-1 div.sk-estimator input.sk-toggleable__control:checked~label.sk-toggleable__label {background-color: #d4ebff;}#sk-container-id-1 div.sk-label input.sk-toggleable__control:checked~label.sk-toggleable__label {background-color: #d4ebff;}#sk-container-id-1 input.sk-hidden--visually {border: 0;clip: rect(1px 1px 1px 1px);clip: rect(1px, 1px, 1px, 1px);height: 1px;margin: -1px;overflow: hidden;padding: 0;position: absolute;width: 1px;}#sk-container-id-1 div.sk-estimator {font-family: monospace;background-color: #f0f8ff;border: 1px dotted black;border-radius: 0.25em;box-sizing: border-box;margin-bottom: 0.5em;}#sk-container-id-1 div.sk-estimator:hover {background-color: #d4ebff;}#sk-container-id-1 div.sk-parallel-item::after {content: \"\";width: 100%;border-bottom: 1px solid gray;flex-grow: 1;}#sk-container-id-1 div.sk-label:hover label.sk-toggleable__label {background-color: #d4ebff;}#sk-container-id-1 div.sk-serial::before {content: \"\";position: absolute;border-left: 1px solid gray;box-sizing: border-box;top: 0;bottom: 0;left: 50%;z-index: 0;}#sk-container-id-1 div.sk-serial {display: flex;flex-direction: column;align-items: center;background-color: white;padding-right: 0.2em;padding-left: 0.2em;position: relative;}#sk-container-id-1 div.sk-item {position: relative;z-index: 1;}#sk-container-id-1 div.sk-parallel {display: flex;align-items: stretch;justify-content: center;background-color: white;position: relative;}#sk-container-id-1 div.sk-item::before, #sk-container-id-1 div.sk-parallel-item::before {content: \"\";position: absolute;border-left: 1px solid gray;box-sizing: border-box;top: 0;bottom: 0;left: 50%;z-index: -1;}#sk-container-id-1 div.sk-parallel-item {display: flex;flex-direction: column;z-index: 1;position: relative;background-color: white;}#sk-container-id-1 div.sk-parallel-item:first-child::after {align-self: flex-end;width: 50%;}#sk-container-id-1 div.sk-parallel-item:last-child::after {align-self: flex-start;width: 50%;}#sk-container-id-1 div.sk-parallel-item:only-child::after {width: 0;}#sk-container-id-1 div.sk-dashed-wrapped {border: 1px dashed gray;margin: 0 0.4em 0.5em 0.4em;box-sizing: border-box;padding-bottom: 0.4em;background-color: white;}#sk-container-id-1 div.sk-label label {font-family: monospace;font-weight: bold;display: inline-block;line-height: 1.2em;}#sk-container-id-1 div.sk-label-container {text-align: center;}#sk-container-id-1 div.sk-container {/* jupyter's `normalize.less` sets `[hidden] { display: none; }` but bootstrap.min.css set `[hidden] { display: none !important; }` so we also need the `!important` here to be able to override the default hidden behavior on the sphinx rendered scikit-learn.org. See: https://github.com/scikit-learn/scikit-learn/issues/21755 */display: inline-block !important;position: relative;}#sk-container-id-1 div.sk-text-repr-fallback {display: none;}</style><div id=\"sk-container-id-1\" class=\"sk-top-container\"><div class=\"sk-text-repr-fallback\"><pre>CalibratedClassifierCV(base_estimator=LinearSVC())</pre><b>In a Jupyter environment, please rerun this cell to show the HTML representation or trust the notebook. <br />On GitHub, the HTML representation is unable to render, please try loading this page with nbviewer.org.</b></div><div class=\"sk-container\" hidden><div class=\"sk-item sk-dashed-wrapped\"><div class=\"sk-label-container\"><div class=\"sk-label sk-toggleable\"><input class=\"sk-toggleable__control sk-hidden--visually\" id=\"sk-estimator-id-1\" type=\"checkbox\" ><label for=\"sk-estimator-id-1\" class=\"sk-toggleable__label sk-toggleable__label-arrow\">CalibratedClassifierCV</label><div class=\"sk-toggleable__content\"><pre>CalibratedClassifierCV(base_estimator=LinearSVC())</pre></div></div></div><div class=\"sk-parallel\"><div class=\"sk-parallel-item\"><div class=\"sk-item\"><div class=\"sk-label-container\"><div class=\"sk-label sk-toggleable\"><input class=\"sk-toggleable__control sk-hidden--visually\" id=\"sk-estimator-id-2\" type=\"checkbox\" ><label for=\"sk-estimator-id-2\" class=\"sk-toggleable__label sk-toggleable__label-arrow\">base_estimator: LinearSVC</label><div class=\"sk-toggleable__content\"><pre>LinearSVC()</pre></div></div></div><div class=\"sk-serial\"><div class=\"sk-item\"><div class=\"sk-estimator sk-toggleable\"><input class=\"sk-toggleable__control sk-hidden--visually\" id=\"sk-estimator-id-3\" type=\"checkbox\" ><label for=\"sk-estimator-id-3\" class=\"sk-toggleable__label sk-toggleable__label-arrow\">LinearSVC</label><div class=\"sk-toggleable__content\"><pre>LinearSVC()</pre></div></div></div></div></div></div></div></div></div></div>"
      ],
      "text/plain": [
       "CalibratedClassifierCV(base_estimator=LinearSVC())"
      ]
     },
     "execution_count": 21,
     "metadata": {},
     "output_type": "execute_result"
    }
   ],
   "source": [
    "classifier = CalibratedClassifierCV(LinearSVC(dual = True), method='sigmoid')\n",
    "classifier.fit(X_train_svm, y_train_svm)"
   ]
  },
  {
   "cell_type": "code",
   "execution_count": 22,
   "id": "b9b79ace",
   "metadata": {},
   "outputs": [
    {
     "name": "stdout",
     "output_type": "stream",
     "text": [
      "Accuracy: 0.92\n",
      "Classification Report:\n",
      "              precision    recall  f1-score   support\n",
      "\n",
      "           0       0.92      0.98      0.95    553132\n",
      "           1       0.91      0.74      0.82    172160\n",
      "\n",
      "    accuracy                           0.92    725292\n",
      "   macro avg       0.92      0.86      0.89    725292\n",
      "weighted avg       0.92      0.92      0.92    725292\n",
      "\n"
     ]
    }
   ],
   "source": [
    "svm_predictions_train = classifier.predict(X_train_svm)\n",
    "\n",
    "accuracy = accuracy_score(y_train_svm, svm_predictions_train)\n",
    "print(f\"Accuracy: {accuracy:.2f}\")\n",
    "\n",
    "\n",
    "print(\"Classification Report:\")\n",
    "print(classification_report(y_train_svm, svm_predictions_train))\n"
   ]
  },
  {
   "cell_type": "code",
   "execution_count": 23,
   "id": "2a8eac36",
   "metadata": {},
   "outputs": [
    {
     "name": "stdout",
     "output_type": "stream",
     "text": [
      "Accuracy: 0.85\n",
      "Classification Report:\n",
      "              precision    recall  f1-score   support\n",
      "\n",
      "           0       0.87      0.94      0.91    118493\n",
      "           1       0.75      0.55      0.63     36927\n",
      "\n",
      "    accuracy                           0.85    155420\n",
      "   macro avg       0.81      0.75      0.77    155420\n",
      "weighted avg       0.84      0.85      0.84    155420\n",
      "\n"
     ]
    }
   ],
   "source": [
    "svm_prediction_test = classifier.predict(X_test_svm)\n",
    "\n",
    "\n",
    "accuracy = accuracy_score(y_test_svm, svm_prediction_test)\n",
    "print(f\"Accuracy: {accuracy:.2f}\")\n",
    "\n",
    "\n",
    "print(\"Classification Report:\")\n",
    "print(classification_report(y_test_svm, svm_prediction_test))"
   ]
  },
  {
   "cell_type": "code",
   "execution_count": 24,
   "id": "d93ab704",
   "metadata": {},
   "outputs": [
    {
     "name": "stdout",
     "output_type": "stream",
     "text": [
      "Accuracy: 0.85\n",
      "Classification Report:\n",
      "              precision    recall  f1-score   support\n",
      "\n",
      "           0       0.87      0.94      0.91    118556\n",
      "           1       0.75      0.54      0.63     36864\n",
      "\n",
      "    accuracy                           0.85    155420\n",
      "   macro avg       0.81      0.74      0.77    155420\n",
      "weighted avg       0.84      0.85      0.84    155420\n",
      "\n"
     ]
    }
   ],
   "source": [
    "svm_predictions_validation= classifier.predict(X_validation_svm)\n",
    "\n",
    "accuracy = accuracy_score(y_validation_svm, svm_predictions_validation)\n",
    "print(f\"Accuracy: {accuracy:.2f}\")\n",
    "\n",
    "\n",
    "print(\"Classification Report:\")\n",
    "print(classification_report(y_validation_svm, svm_predictions_validation))"
   ]
  },
  {
   "cell_type": "raw",
   "id": "138bce0a",
   "metadata": {},
   "source": [
    "# logistic regression"
   ]
  },
  {
   "cell_type": "code",
   "execution_count": 25,
   "id": "13cf7ee6",
   "metadata": {},
   "outputs": [],
   "source": [
    "X = df['text']\n",
    "y = df['sentiment']"
   ]
  },
  {
   "cell_type": "code",
   "execution_count": 26,
   "id": "6b21b68f",
   "metadata": {},
   "outputs": [],
   "source": [
    "from sklearn.feature_extraction.text import TfidfVectorizer\n",
    "tfid = TfidfVectorizer()\n",
    "Xt = tfid.fit_transform(X)"
   ]
  },
  {
   "cell_type": "code",
   "execution_count": 27,
   "id": "83299384",
   "metadata": {},
   "outputs": [],
   "source": [
    "from sklearn.model_selection import train_test_split\n",
    "X_train, X_test, y_train, y_test = train_test_split(Xt, y, test_size=0.2, random_state= 42)"
   ]
  },
  {
   "cell_type": "code",
   "execution_count": 28,
   "id": "b13f6bc0",
   "metadata": {},
   "outputs": [
    {
     "name": "stderr",
     "output_type": "stream",
     "text": [
      "C:\\Users\\gangu\\anaconda3\\Lib\\site-packages\\sklearn\\linear_model\\_logistic.py:444: ConvergenceWarning: lbfgs failed to converge (status=1):\n",
      "STOP: TOTAL NO. of ITERATIONS REACHED LIMIT.\n",
      "\n",
      "Increase the number of iterations (max_iter) or scale the data as shown in:\n",
      "    https://scikit-learn.org/stable/modules/preprocessing.html\n",
      "Please also refer to the documentation for alternative solver options:\n",
      "    https://scikit-learn.org/stable/modules/linear_model.html#logistic-regression\n",
      "  n_iter_i = _check_optimize_result(\n"
     ]
    },
    {
     "data": {
      "text/html": [
       "<style>#sk-container-id-2 {color: black;background-color: white;}#sk-container-id-2 pre{padding: 0;}#sk-container-id-2 div.sk-toggleable {background-color: white;}#sk-container-id-2 label.sk-toggleable__label {cursor: pointer;display: block;width: 100%;margin-bottom: 0;padding: 0.3em;box-sizing: border-box;text-align: center;}#sk-container-id-2 label.sk-toggleable__label-arrow:before {content: \"▸\";float: left;margin-right: 0.25em;color: #696969;}#sk-container-id-2 label.sk-toggleable__label-arrow:hover:before {color: black;}#sk-container-id-2 div.sk-estimator:hover label.sk-toggleable__label-arrow:before {color: black;}#sk-container-id-2 div.sk-toggleable__content {max-height: 0;max-width: 0;overflow: hidden;text-align: left;background-color: #f0f8ff;}#sk-container-id-2 div.sk-toggleable__content pre {margin: 0.2em;color: black;border-radius: 0.25em;background-color: #f0f8ff;}#sk-container-id-2 input.sk-toggleable__control:checked~div.sk-toggleable__content {max-height: 200px;max-width: 100%;overflow: auto;}#sk-container-id-2 input.sk-toggleable__control:checked~label.sk-toggleable__label-arrow:before {content: \"▾\";}#sk-container-id-2 div.sk-estimator input.sk-toggleable__control:checked~label.sk-toggleable__label {background-color: #d4ebff;}#sk-container-id-2 div.sk-label input.sk-toggleable__control:checked~label.sk-toggleable__label {background-color: #d4ebff;}#sk-container-id-2 input.sk-hidden--visually {border: 0;clip: rect(1px 1px 1px 1px);clip: rect(1px, 1px, 1px, 1px);height: 1px;margin: -1px;overflow: hidden;padding: 0;position: absolute;width: 1px;}#sk-container-id-2 div.sk-estimator {font-family: monospace;background-color: #f0f8ff;border: 1px dotted black;border-radius: 0.25em;box-sizing: border-box;margin-bottom: 0.5em;}#sk-container-id-2 div.sk-estimator:hover {background-color: #d4ebff;}#sk-container-id-2 div.sk-parallel-item::after {content: \"\";width: 100%;border-bottom: 1px solid gray;flex-grow: 1;}#sk-container-id-2 div.sk-label:hover label.sk-toggleable__label {background-color: #d4ebff;}#sk-container-id-2 div.sk-serial::before {content: \"\";position: absolute;border-left: 1px solid gray;box-sizing: border-box;top: 0;bottom: 0;left: 50%;z-index: 0;}#sk-container-id-2 div.sk-serial {display: flex;flex-direction: column;align-items: center;background-color: white;padding-right: 0.2em;padding-left: 0.2em;position: relative;}#sk-container-id-2 div.sk-item {position: relative;z-index: 1;}#sk-container-id-2 div.sk-parallel {display: flex;align-items: stretch;justify-content: center;background-color: white;position: relative;}#sk-container-id-2 div.sk-item::before, #sk-container-id-2 div.sk-parallel-item::before {content: \"\";position: absolute;border-left: 1px solid gray;box-sizing: border-box;top: 0;bottom: 0;left: 50%;z-index: -1;}#sk-container-id-2 div.sk-parallel-item {display: flex;flex-direction: column;z-index: 1;position: relative;background-color: white;}#sk-container-id-2 div.sk-parallel-item:first-child::after {align-self: flex-end;width: 50%;}#sk-container-id-2 div.sk-parallel-item:last-child::after {align-self: flex-start;width: 50%;}#sk-container-id-2 div.sk-parallel-item:only-child::after {width: 0;}#sk-container-id-2 div.sk-dashed-wrapped {border: 1px dashed gray;margin: 0 0.4em 0.5em 0.4em;box-sizing: border-box;padding-bottom: 0.4em;background-color: white;}#sk-container-id-2 div.sk-label label {font-family: monospace;font-weight: bold;display: inline-block;line-height: 1.2em;}#sk-container-id-2 div.sk-label-container {text-align: center;}#sk-container-id-2 div.sk-container {/* jupyter's `normalize.less` sets `[hidden] { display: none; }` but bootstrap.min.css set `[hidden] { display: none !important; }` so we also need the `!important` here to be able to override the default hidden behavior on the sphinx rendered scikit-learn.org. See: https://github.com/scikit-learn/scikit-learn/issues/21755 */display: inline-block !important;position: relative;}#sk-container-id-2 div.sk-text-repr-fallback {display: none;}</style><div id=\"sk-container-id-2\" class=\"sk-top-container\"><div class=\"sk-text-repr-fallback\"><pre>LogisticRegression()</pre><b>In a Jupyter environment, please rerun this cell to show the HTML representation or trust the notebook. <br />On GitHub, the HTML representation is unable to render, please try loading this page with nbviewer.org.</b></div><div class=\"sk-container\" hidden><div class=\"sk-item\"><div class=\"sk-estimator sk-toggleable\"><input class=\"sk-toggleable__control sk-hidden--visually\" id=\"sk-estimator-id-4\" type=\"checkbox\" checked><label for=\"sk-estimator-id-4\" class=\"sk-toggleable__label sk-toggleable__label-arrow\">LogisticRegression</label><div class=\"sk-toggleable__content\"><pre>LogisticRegression()</pre></div></div></div></div></div>"
      ],
      "text/plain": [
       "LogisticRegression()"
      ]
     },
     "execution_count": 28,
     "metadata": {},
     "output_type": "execute_result"
    }
   ],
   "source": [
    "from sklearn.linear_model import LogisticRegression\n",
    "model = LogisticRegression()\n",
    "model.fit(X_train, y_train)"
   ]
  },
  {
   "cell_type": "code",
   "execution_count": 29,
   "id": "254a7085",
   "metadata": {},
   "outputs": [],
   "source": [
    "y_pred = model.predict(X_test)"
   ]
  },
  {
   "cell_type": "code",
   "execution_count": 30,
   "id": "9e422eac",
   "metadata": {},
   "outputs": [
    {
     "name": "stdout",
     "output_type": "stream",
     "text": [
      "Classification Report:\n",
      "               precision    recall  f1-score   support\n",
      "\n",
      "           0       0.87      0.94      0.91    158145\n",
      "           1       0.76      0.56      0.64     49082\n",
      "\n",
      "    accuracy                           0.85    207227\n",
      "   macro avg       0.82      0.75      0.77    207227\n",
      "weighted avg       0.85      0.85      0.84    207227\n",
      "\n"
     ]
    }
   ],
   "source": [
    "#Showing Model Summary\n",
    "from sklearn.metrics import classification_report, confusion_matrix, ConfusionMatrixDisplay\n",
    "print('Classification Report:\\n', classification_report(y_test, y_pred))"
   ]
  },
  {
   "cell_type": "code",
   "execution_count": 32,
   "id": "a979be7a",
   "metadata": {},
   "outputs": [],
   "source": [
    "## majority class 0\n",
    "df_majority_knn = df[df['sentiment']==0]\n",
    "## minority class 1\n",
    "df_minority_knn = df[df['sentiment']==1]\n",
    "\n",
    "df_majority_downsampled_knn = resample(df_majority_knn, \n",
    "                                 replace=False,   \n",
    "                                 n_samples=len(df_minority_knn)//5,    \n",
    "                                 random_state=134)\n",
    "\n",
    "df_minority_downsampled_knn = resample(df_minority_knn, \n",
    "                                 replace=False,   \n",
    "                                 n_samples=len(df_minority_knn)//5,    \n",
    "                                 random_state=134)"
   ]
  },
  {
   "cell_type": "code",
   "execution_count": 33,
   "id": "7ed96a37",
   "metadata": {},
   "outputs": [
    {
     "data": {
      "text/plain": [
       "(98380, 96042)"
      ]
     },
     "execution_count": 33,
     "metadata": {},
     "output_type": "execute_result"
    }
   ],
   "source": [
    "#text vectorization\n",
    "df = pd.concat([df_majority_downsampled_knn, df_minority_downsampled_knn])\n",
    "\n",
    "x = df['text']\n",
    "y = df['sentiment']\n",
    "\n",
    "\n",
    "vectorizer2 = tf()\n",
    "vectors = vectorizer2.fit_transform(x)\n",
    "\n",
    "vectors.shape"
   ]
  },
  {
   "cell_type": "code",
   "execution_count": 36,
   "id": "7b9bd570",
   "metadata": {},
   "outputs": [
    {
     "data": {
      "image/png": "[encoded data removed]",
      "text/plain": [
       "<Figure size 640x480 with 1 Axes>"
      ]
     },
     "metadata": {},
     "output_type": "display_data"
    }
   ],
   "source": [
    "sns.set(style=\"whitegrid\") \n",
    "\n",
    "sns.countplot(data=df, x='sentiment', hue='sentiment', palette='Set2')\n",
    "\n",
    "# Customize plot labels and title if needed\n",
    "plt.xlabel('Sentiment')\n",
    "plt.ylabel('Count')\n",
    "plt.title('Distribution of Sentiments')\n",
    "\n",
    "# Show the plot\n",
    "plt.show()"
   ]
  },
  {
   "cell_type": "code",
   "execution_count": null,
   "id": "b33bd2ef",
   "metadata": {},
   "outputs": [],
   "source": [
    "X_train_knn, X_temp_knn, y_train_knn, y_temp_knn = train_test_split(vectors, y, test_size=0.3, random_state=52)\n",
    "\n",
    "X_validation_knn, X_test_knn, y_validation_knn, y_test_knn = train_test_split(X_temp_knn, y_temp_knn, test_size=0.5, random_state=52)"
   ]
  },
  {
   "cell_type": "code",
   "execution_count": null,
   "id": "a73fdaac",
   "metadata": {},
   "outputs": [],
   "source": [
    "# for KNN\n",
    "n_components = 100  \n",
    "svd = TruncatedSVD(n_components=n_components)\n",
    "X_train_knn_pca = svd.fit_transform(X_train_knn)\n",
    "X_validation_knn_pca = svd.transform(X_validation_knn)\n",
    "X_test_knn_pca = svd.transform(X_test_knn)\n",
    "\n",
    "\n",
    "knn_model = KNeighborsClassifier(n_neighbors=5) \n",
    "knn_model.fit(X_train_knn_pca, y_train_knn)\n",
    "\n",
    "\n",
    "y_pred_validation_knn = knn_model.predict(X_validation_knn_pca)\n",
    "accuracy_validation_knn = accuracy_score(y_validation_knn, y_pred_validation_knn)\n",
    "print(f\"Accuracy on the validation set: {accuracy_validation_knn}\")\n",
    "\n",
    "y_pred_test_knn = knn_model.predict(X_test_knn_pca)\n",
    "accuracy_test_knn = accuracy_score(y_test_knn, y_pred_test_knn)\n",
    "print(f\"Accuracy on the test set: {accuracy_test_knn}\")"
   ]
  },
  {
   "cell_type": "code",
   "execution_count": 62,
   "id": "ed5624ce",
   "metadata": {},
   "outputs": [
    {
     "name": "stdout",
     "output_type": "stream",
     "text": [
      "313\n"
     ]
    }
   ],
   "source": [
    "l = int(np.sqrt(len(x)))\n",
    "print(l)"
   ]
  },
  {
   "cell_type": "code",
   "execution_count": 59,
   "id": "ce087ce2",
   "metadata": {},
   "outputs": [
    {
     "name": "stdout",
     "output_type": "stream",
     "text": [
      "KNN Accuracy: 0.74\n",
      "KNN Classification Report:\n",
      "              precision    recall  f1-score   support\n",
      "\n",
      "           0       0.69      0.85      0.77     34502\n",
      "           1       0.81      0.62      0.70     34364\n",
      "\n",
      "    accuracy                           0.74     68866\n",
      "   macro avg       0.75      0.74      0.74     68866\n",
      "weighted avg       0.75      0.74      0.74     68866\n",
      "\n"
     ]
    }
   ],
   "source": [
    "knn_classifier = KNeighborsClassifier(n_neighbors=l)  # You can experiment with different values of k\n",
    "knn_classifier.fit(X_train_knn, y_train_knn)\n",
    "knn_predictions_train =knn_classifier.predict(X_train_knn) \n",
    "knn_accuracy = accuracy_score(y_train_knn, knn_predictions_train)\n",
    "print(f\"KNN Accuracy: {knn_accuracy:.2f}\")\n",
    "print(\"KNN Classification Report:\")\n",
    "print(classification_report(y_train_knn, knn_predictions_train))"
   ]
  },
  {
   "cell_type": "code",
   "execution_count": null,
   "id": "208cc5c6",
   "metadata": {},
   "outputs": [],
   "source": [
    "knn_prediction_test = knn_classifier.predict(X_test_knn) \n",
    "knn_accuracy = accuracy_score(y_test_knn, knn_prediction_test)\n",
    "print(f\"KNN Accuracy: {knn_accuracy:.2f}\")\n",
    "print(\"KNN Classification Report:\")\n",
    "print(classification_report(y_test_knn, knn_prediction_test))"
   ]
  },
  {
   "cell_type": "code",
   "execution_count": null,
   "id": "7820ed07",
   "metadata": {},
   "outputs": [],
   "source": [
    "knn_predictions_validation =knn_classifier.predict(X_validation_knn) \n",
    "knn_accuracy = accuracy_score(y_validation_knn, knn_predictions_validation)\n",
    "print(f\"KNN Accuracy: {knn_accuracy:.2f}\")\n",
    "print(\"KNN Classification Report:\")\n",
    "\n",
    "print(classification_report(y_validation_knn, knn_predictions_validation))"
   ]
  },
  {
   "cell_type": "code",
   "execution_count": null,
   "id": "c51568c1",
   "metadata": {},
   "outputs": [],
   "source": [
    "knn_predictions_validation =knn_classifier.predict(X_validation_knn) \n",
    "knn_accuracy = accuracy_score(y_validation_knn, knn_predictions_validation)\n",
    "print(f\"KNN Accuracy: {knn_accuracy:.2f}\")\n",
    "print(\"KNN Classification Report:\")\n",
    "\n",
    "print(classification_report(y_validation_knn, knn_predictions_validation))"
   ]
  },
  {
   "cell_type": "code",
   "execution_count": null,
   "id": "bb3c6ac5",
   "metadata": {},
   "outputs": [],
   "source": [
    "def metrics(y_train, y_train_pred, y_test, y_test_pred):\n",
    "    fig, axes = plt.subplots(1, 2, figsize=(12, 5))\n",
    "\n",
    "    cm_train = confusion_matrix(y_train, y_train_pred)\n",
    "    disp_train = ConfusionMatrixDisplay(confusion_matrix=cm_train, display_labels=None)\n",
    "    disp_train.plot(ax=axes[0], cmap='Blues', values_format='d')\n",
    "    axes[0].set_title('Training Confusion Matrix ')\n",
    "\n",
    "    \n",
    "    cm_test = confusion_matrix(y_test, y_test_pred)\n",
    "    disp_test = ConfusionMatrixDisplay(confusion_matrix=cm_test, display_labels=None)\n",
    "    disp_test.plot(ax=axes[1], cmap='Blues', values_format='d')\n",
    "    axes[1].set_title('Testing Confusion Matrix')\n",
    "\n",
    "    plt.show()"
   ]
  },
  {
   "cell_type": "markdown",
   "id": "c8771ac4",
   "metadata": {},
   "source": [
    "# ROC AUC"
   ]
  },
  {
   "cell_type": "code",
   "execution_count": null,
   "id": "f6e6502c",
   "metadata": {},
   "outputs": [],
   "source": [
    "def plot_roc_curve(fpr, tpr, label, title):\n",
    "    plt.plot(fpr, tpr, label='{} (AUC = {:.2f})'.format(label, auc(fpr, tpr)))\n",
    "\n",
    "\n",
    "plt.figure(figsize=(10, 6))\n",
    "\n",
    "# KNN\n",
    "knn_probs = knn_classifier.predict_proba(X_test_knn)[:, 1]\n",
    "knn_fpr, knn_tpr, _ = roc_curve(y_test_knn, knn_probs)\n",
    "plot_roc_curve(knn_fpr, knn_tpr, 'KNN', 'ROC Curve - KNN')\n",
    "\n",
    "# SVM\n",
    "svm_probs = classifier.predict_proba(X_test_svm)[:, 1]\n",
    "svm_fpr, svm_tpr, _ = roc_curve(y_test_svm, svm_probs)\n",
    "plot_roc_curve(svm_fpr, svm_tpr, 'SVM', 'ROC Curve - SVM')\n",
    "\n",
    "# Plotting diagonal line for reference\n",
    "plt.plot([0, 1], [0, 1], color='navy', lw=2, linestyle='--')\n",
    "\n",
    "\n",
    "plt.xlabel('False Positive Rate')\n",
    "plt.ylabel('True Positive Rate')\n",
    "plt.title('Receiver Operating Characteristic (ROC) Curve')\n",
    "plt.legend(loc='lower right')\n",
    "\n",
    "# Show the plot\n",
    "plt.show()"
   ]
  },
  {
   "cell_type": "code",
   "execution_count": null,
   "id": "846cb520",
   "metadata": {},
   "outputs": [],
   "source": []
  }
 ],
 "metadata": {
  "kernelspec": {
   "display_name": "Python 3 (ipykernel)",
   "language": "python",
   "name": "python3"
  },
  "language_info": {
   "codemirror_mode": {
    "name": "ipython",
    "version": 3
   },
   "file_extension": ".py",
   "mimetype": "text/x-python",
   "name": "python",
   "nbconvert_exporter": "python",
   "pygments_lexer": "ipython3",
   "version": "3.11.5"
  }
 },
 "nbformat": 4,
 "nbformat_minor": 5
}
